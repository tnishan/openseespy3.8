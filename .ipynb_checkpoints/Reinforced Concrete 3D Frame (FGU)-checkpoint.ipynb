{
 "cells": [
  {
   "cell_type": "markdown",
   "metadata": {},
   "source": [
    "## Reinforced Concrete 3D Frame\n",
    "#### January 2022, By Amir Hossein Namadchi\n",
    "In this notebook, a 3-Dimensional one story Reinforced Concrete moment resisting frame is modeled. This is an OpenSeesPy simulation of TCL version of the model, presented by [*Fernando Gutiérrez Urzúa*](https://www.ucl.ac.uk/epicentre/fernando-gutierrez-urzua) in his [YouTube channel](https://www.youtube.com/user/lfgurzua). Some minor modifications are made by me in the python version. According to his, modeling assumptions are:\n",
    "\n",
    "- Columns & Beams are modeled as distributed plasticity elements\n",
    "\n",
    "To have cleaner code, all of the neccessary functions are written in a single *.py* file named `RC3DF.py`. The file contains:\n",
    "- `build_RC_rect_section`: *Build fiber rectangular RC section*\n",
    "- `build_model`: *Builds the 3D RC Frame model*\n",
    "- `run_gravity`: *Runs gravity analysis*\n",
    "- `run_modal`: *Runs Modal analysis*\n",
    "- `run_pushover`: *Runs Pushover analysis*\n",
    "- `run_time_history`: *Runs Time history analysis*\n",
    "- `reset_analysis`: *Resets the analysis by setting time to 0,removing the recorders and wiping the analysis.*\n",
    "\n",
    "Some additional function arguments are provided to be able to tweak model parameters. Please note that some functions use data obtained by running other functions. For example, in order to run time-history analysis, some of the system's natural frequencies are required which can be obtained by running `run_modal` function.\n",
    "\n",
    "The model has been idealized as follows:"
   ]
  },
  {
   "cell_type": "markdown",
   "metadata": {},
   "source": [
    "Beam and Column sections are defined as:"
   ]
  },
  {
   "cell_type": "markdown",
   "metadata": {},
   "source": [
    "![RC Frame Sections](FGU_RC3DF_files/RCFrameSections.PNG)"
   ]
  },
  {
   "cell_type": "markdown",
   "metadata": {},
   "source": [
    "### Dependencies"
   ]
  },
  {
   "cell_type": "code",
   "execution_count": 132,
   "metadata": {},
   "outputs": [],
   "source": [
    "import time\n",
    "import sys\n",
    "import os\n",
    "import numpy as np\n",
    "import matplotlib\n",
    "import matplotlib.pyplot as plt\n",
    "sys.path.append('FGU_RC3DF_files')\n",
    "import openseespy.opensees as ops\n",
    "import pandas as pd\n",
    "import RC3DF as RC\n",
    "import openseespy.postprocessing.Get_Rendering as opsplt\n",
    "from math import asin, sqrt\n",
    "%matplotlib inline"
   ]
  },
  {
   "cell_type": "code",
   "execution_count": 133,
   "metadata": {},
   "outputs": [
    {
     "data": {
      "text/plain": [
       "'3.8.10'"
      ]
     },
     "execution_count": 133,
     "metadata": {},
     "output_type": "execute_result"
    }
   ],
   "source": [
    "from platform import python_version\n",
    "python_version()"
   ]
  },
  {
   "cell_type": "markdown",
   "metadata": {},
   "source": [
    "### Model Data"
   ]
  },
  {
   "cell_type": "markdown",
   "metadata": {},
   "source": [
    "#### Units (*Silvia's Style*)"
   ]
  },
  {
   "cell_type": "code",
   "execution_count": 134,
   "metadata": {},
   "outputs": [],
   "source": [
    "m = 1.0               # Meters\n",
    "KN = 1.0              # KiloNewtons\n",
    "sec = 1.0             # Seconds\n",
    "\n",
    "mm = 0.001*m          # Milimeters\n",
    "cm = 0.01*m           # Centimeters \n",
    "ton = KN*(sec**2)/m   # mass unit (derived)\n",
    "g = 9.81*(m/sec**2)   # gravitational constant (derived) \n",
    "MPa = 1e3*(KN/m**2)   # Mega Pascal \n",
    "GPa = 1e6*(KN/m**2)   # Giga Pascal "
   ]
  },
  {
   "cell_type": "markdown",
   "metadata": {},
   "source": [
    "#### Geometric Dimensions"
   ]
  },
  {
   "cell_type": "code",
   "execution_count": 135,
   "metadata": {},
   "outputs": [],
   "source": [
    "# GENERAL DIMENSIONS\n",
    "numBayX = 2\n",
    "numBayY = 3\n",
    "# numFloor = 5\n",
    "\n",
    "bayWidthX = 3*m\n",
    "bayWidthY = 3*m\n",
    "storyHeights = [2.5*m,2.5*m, 2.5*m,2.5*m,2.5*m]\n",
    "numFloor = len(storyHeights)\n",
    "\n",
    "# L_X = 6.0*m          # Span in X-direction\n",
    "# L_Y = 7.0*m          # Span in Y-direction\n",
    "# L_Z = 3.5*m          # Story height"
   ]
  },
  {
   "cell_type": "markdown",
   "metadata": {},
   "source": [
    "#### Material Definition"
   ]
  },
  {
   "cell_type": "code",
   "execution_count": 136,
   "metadata": {},
   "outputs": [],
   "source": [
    "f_c_1 = -25*MPa          # f'c in compression for unconfined concrete\n",
    "f_c_2 = -28*MPa          # f'c in compression for confined concrete\n",
    "eps_c = -0.002           # strain at maximum stress in compression \n",
    "eps_u = -0.02            # strain at ultimate stress in compression\n",
    "f_y = 500.0*MPa          # fy for reinforcing steel\n",
    "E_s = 210.0*GPa          # E for reinforcing steel"
   ]
  },
  {
   "cell_type": "markdown",
   "metadata": {},
   "source": [
    "#### Section Definition"
   ]
  },
  {
   "cell_type": "code",
   "execution_count": 169,
   "metadata": {},
   "outputs": [],
   "source": [
    "rebar = 0.25*np.pi*(25*mm)**2\n",
    "\n",
    "# uniaxial Kent-Scott-Park concrete material with degraded linear unloading/reloading\n",
    "mat_KSP_unconf = {'ID':'Concrete02',\n",
    "                  'matTag': 1,\n",
    "                  'fpc': f_c_1,\n",
    "                  'epsc0': eps_c,\n",
    "                  'fpcu': 0.2*f_c_1,\n",
    "                  'epsU': eps_u,\n",
    "                  'lamda': 0.1,\n",
    "                  'ft': -0.1*f_c_1,\n",
    "                  'Ets': (-0.1*f_c_1)/0.002}\n",
    "# uniaxial Kent-Scott-Park concrete material with degraded linear unloading/reloading\n",
    "mat_KSP_conf = {'ID':'Concrete02',\n",
    "                  'matTag': 2,\n",
    "                  'fpc': f_c_2,\n",
    "                  'epsc0': eps_c,\n",
    "                  'fpcu': 0.2*f_c_2,\n",
    "                  'epsU': eps_u,\n",
    "                  'lamda': 0.1,\n",
    "                  'ft': -0.1*f_c_2,\n",
    "                  'Ets': (-0.1*f_c_2)/0.002}\n",
    "\n",
    "# uniaxial Giuffre-Menegotto-Pinto steel with isotropic strain hardening\n",
    "mat_GMP = {'ID':'Steel02',\n",
    "           'matTag':3,\n",
    "           'Fy': f_y,\n",
    "           'E0': E_s,\n",
    "           'b':0.005,\n",
    "           'R0': 20.0,\n",
    "           'cR1': 0.925,\n",
    "           'cR2': 0.15}\n",
    "\n",
    "\n",
    "sections = {'Beam':{'B':230*mm,\n",
    "                        'H':350*mm,\n",
    "                        'cover':40*mm,\n",
    "                        'n_bars_top':3,\n",
    "                        'n_bars_bot':3,\n",
    "                        'n_bars_int_tot':2,\n",
    "                        'bar_area_top':rebar,\n",
    "                        'bar_area_bot':rebar,\n",
    "                        'bar_area_int':rebar},\n",
    "\n",
    "            'Column':{'B':500*mm,\n",
    "                        'H':500*mm,\n",
    "                        'cover':40*mm,\n",
    "                        'n_bars_top':5,\n",
    "                        'n_bars_bot':5,\n",
    "                        'n_bars_int_tot':6,\n",
    "                        'bar_area_top':rebar,\n",
    "                        'bar_area_bot':rebar,\n",
    "                        'bar_area_int':rebar}\n",
    "           }   "
   ]
  },
  {
   "cell_type": "markdown",
   "metadata": {},
   "source": [
    "#### Loading"
   ]
  },
  {
   "cell_type": "code",
   "execution_count": 170,
   "metadata": {},
   "outputs": [],
   "source": [
    "C_L = 80.0*(KN)      # Concentrated load\n",
    "m_1 = 1000.0*ton       # lumped mass 1"
   ]
  },
  {
   "cell_type": "markdown",
   "metadata": {},
   "source": [
    "### Analysis"
   ]
  },
  {
   "cell_type": "markdown",
   "metadata": {},
   "source": [
    "#### Gravity analysis"
   ]
  },
  {
   "cell_type": "code",
   "execution_count": 171,
   "metadata": {},
   "outputs": [
    {
     "name": "stdout",
     "output_type": "stream",
     "text": [
      "range(13, 73)\n",
      "Model Built Successfully!\n",
      "Gravity analysis Done!\n"
     ]
    }
   ],
   "source": [
    "\n",
    "RC.build_model(numBayX, numBayY,numFloor,bayWidthX,bayWidthY,storyHeights,mat_KSP_unconf, mat_KSP_conf, mat_GMP, sections, C_L, m_1)\n",
    "RC.run_gravity()\n",
    "\n"
   ]
  },
  {
   "cell_type": "markdown",
   "metadata": {},
   "source": [
    "#### OPS PLOTTING"
   ]
  },
  {
   "cell_type": "code",
   "execution_count": 172,
   "metadata": {},
   "outputs": [
    {
     "name": "stdout",
     "output_type": "stream",
     "text": [
      "No Model_ODB specified, trying to get data from the active model.\n",
      "3D model\n"
     ]
    },
    {
     "data": {
      "image/png": "[encoded data removed]",
      "text/plain": [
       "<Figure size 432x288 with 1 Axes>"
      ]
     },
     "metadata": {
      "needs_background": "light"
     },
     "output_type": "display_data"
    }
   ],
   "source": [
    "# calculate eigenvalues & print results\n",
    "numEigen = 4\n",
    "eigenValues = ops.eigen(numEigen)\n",
    "PI = 2 * asin(1.0)\n",
    "\n",
    "###################################\n",
    "#### Display the active model with node tags only\n",
    "opsplt.plot_model(\"elements\")\n",
    "# opsplt.plot_model(\"nodes\")\n",
    "\n",
    "\n",
    "####  Display specific mode shape with scale factor of 300 using the active model\n",
    "# opsplt.plot_modeshape(2, 30)\n",
    "\n",
    "\n",
    "# IMPORTANT: Make sure to issue a wipe() command to close all the recorders. Not issuing a wipe() command\n",
    "# ... can cause errors in the plot_deformedshape() command.\n",
    "ops.wipe()\n",
    "\n",
    "# opsplt.plot_modeshape(2, 30, Model=\"3DFrame\")\n",
    "# opsplt.plot_deformedshape(Model=\"3DFrame\", LoadCase=\"Gravity\", tstep=10, scale=500, overlap=\"yes\")\n",
    "\n"
   ]
  },
  {
   "cell_type": "markdown",
   "metadata": {},
   "source": [
    "#### Modal analysis"
   ]
  },
  {
   "cell_type": "code",
   "execution_count": 173,
   "metadata": {},
   "outputs": [
    {
     "name": "stdout",
     "output_type": "stream",
     "text": [
      "range(13, 73)\n",
      "Model Built Successfully!\n",
      "Modal analysis Done!\n"
     ]
    }
   ],
   "source": [
    "RC.build_model(numBayX, numBayY,numFloor,bayWidthX,bayWidthY,storyHeights,mat_KSP_unconf, mat_KSP_conf, mat_GMP, sections, C_L, m_1)\n",
    "# RC.build_model(L_X, L_Y, L_Z, mat_KSP_unconf, mat_KSP_conf, mat_GMP, sections, C_L, m_1)\n",
    "RC.run_modal()"
   ]
  },
  {
   "cell_type": "code",
   "execution_count": 174,
   "metadata": {},
   "outputs": [],
   "source": [
    "def run_pushover(numBayX, numBayY, numFloor, m_1,direction, steps = 200):\n",
    "    \n",
    "    \"\"\"\n",
    "    Runs Pushover analysis.\n",
    "    Note that the model should be built before\n",
    "    calling this function. Also, Gravity analysis\n",
    "    should be called afterwards.\n",
    "    \n",
    "    Keyword arguments:\n",
    "    m_1 -- lumped mass value\n",
    "    steps -- total number of analysis steps\n",
    "    direction -- 'X' or 'Y' \n",
    "    \"\"\"    \n",
    "    phi = 10.0\n",
    "    no_nodes = (numBayX+1)*(numBayY+1)*(numFloor+1)\n",
    "    print(no_nodes)   \n",
    "    \n",
    "    if direction == 'X':\n",
    "        file_names = ['Pushover_Horizontal_ReactionsX.out',\n",
    "                      'Pushover_Story_DisplacementX.out']\n",
    "        loads = [[n,m_1*phi,0,0,0,0,0] for n in range((numBayX+1)*(numBayY+1)+1, no_nodes)]\n",
    "        d_o_f = 1\n",
    "    else:\n",
    "        file_names = ['Pushover_Horizontal_ReactionsY.out',\n",
    "              'Pushover_Story_DisplacementY.out']\n",
    "        loads = [[n,0,m_1*phi,0,0,0,0] for n in range((numBayX+1)*(numBayY+1)+1,no_nodes)]\n",
    "        d_o_f = 2\n",
    "        \n",
    "    ## Records the response of a number of nodes at every converged step\n",
    "    # Global behaviour\n",
    "    # records horizontal reactions of support nodes.\n",
    "    ops.recorder('Node', '-file',\n",
    "                 os.path.join('FGU_RC3DF_files',file_names[0]),\n",
    "                 '-time','-node', *list(range(1,(numBayX+1)*(numBayY+1)+1)), '-dof', d_o_f, 'reaction')\n",
    "    # records horizontal displacements of upper nodes from first floor.\n",
    "    ops.recorder('Node','-file',\n",
    "                  os.path.join('FGU_RC3DF_files',file_names[1]),\n",
    "                 '-time','-node', *list(range((numBayX+1)*(numBayY+1)+1,(numBayX+1)*(numBayY+1)*(numFloor+1)+1)), '-dof', d_o_f, 'disp')\n",
    "    \n",
    "    # Measure analysis duration\n",
    "    tic = time.time()\n",
    "\n",
    "    # Apply lateral load based on first mode shape in x direction (EC8-1)\n",
    "    ops.pattern('Plain', 2, 1)\n",
    "    [ops.load(*l) for l in loads];\n",
    "\n",
    "\n",
    "    # Define step parameters\n",
    "    step = +1.0e-03\n",
    "    number_of_steps = steps\n",
    "\n",
    "    # Constructs a transformation constraint handler, \n",
    "    # which enforces the constraints using the transformation method.\n",
    "    ops.constraints('Transformation')\n",
    "\n",
    "    # RCM numberer uses the reverse Cuthill-McKee scheme to order the matrix equations\n",
    "    ops.numberer('RCM')\n",
    "\n",
    "    # Construct a BandGeneralSOE linear system of equation object\n",
    "    ops.system('BandGen')\n",
    "\n",
    "    # Uses the norm of the left hand side solution vector of the matrix equation to\n",
    "    # determine if convergence has been reached\n",
    "    ops.test('NormDispIncr', 0.000001, 100)\n",
    "\n",
    "    # Line search increases the effectiveness of the Newton method\n",
    "    # when convergence is slow due to roughness of the residual.\n",
    "    ops.algorithm('NewtonLineSearch',True, 0.8,\n",
    "                  1000, 0.1, 10.0)\n",
    "\n",
    "    # Displacement Control tries to determine the time step that will\n",
    "    # result in a displacement increment for a particular degree-of-freedom\n",
    "    # at a node to be a prescribed value.\n",
    "    # Target node is 5 and dof is 1\n",
    "    ops.integrator('DisplacementControl',int(round((numBayX+1)*(numBayY+1)*numFloor+(numBayX+1)*(numBayY+1)/2,0)), d_o_f, step)\n",
    "\n",
    "    # Constructs the Static Analysis object\n",
    "    ops.analysis('Static')\n",
    "\n",
    "    # Records the current state of the model\n",
    "    ops.record()\n",
    "\n",
    "    # Performs the analysis\n",
    "    ops.analyze(number_of_steps)\n",
    "\n",
    "    toc = time.time()\n",
    "    ops.wipe()\n",
    "\n",
    "    print('Pushover Analysis in {} Done in {:1.2f} seconds'.format(direction,(toc-tic)))\n",
    "\n"
   ]
  },
  {
   "cell_type": "markdown",
   "metadata": {},
   "source": [
    "#### Pushover analysis in X directions"
   ]
  },
  {
   "cell_type": "code",
   "execution_count": 175,
   "metadata": {
    "scrolled": true
   },
   "outputs": [
    {
     "name": "stdout",
     "output_type": "stream",
     "text": [
      "range(13, 73)\n",
      "Model Built Successfully!\n",
      "Gravity analysis Done!\n",
      "72\n"
     ]
    },
    {
     "name": "stderr",
     "output_type": "stream",
     "text": [
      "WARNING - ForceBeamColumn3d::update - failed to get compatible element forces & deformations for element: 9(dW: << 0.00800799, dW0: 189.653)\n",
      "WARNING - ForceBeamColumn3d::update - failed to get compatible element forces & deformations for element: 9(dW: << 0.00800799, dW0: 189.653)\n",
      "Domain::update - domain failed in update\n",
      "DisplacementControl::update - model failed to update for new dU\n",
      "WARNInG InitialInterpolatedLineSearch::search() -the Integrator failed in update()\n",
      "WARNING - ForceBeamColumn3d::update - failed to get compatible element forces & deformations for element: 9(dW: << 1068.13, dW0: 2.41053)\n",
      "WARNING - ForceBeamColumn3d::update - failed to get compatible element forces & deformations for element: 5(dW: << -348.197, dW0: 12.1145)\n"
     ]
    },
    {
     "name": "stdout",
     "output_type": "stream",
     "text": [
      "Pushover Analysis in X Done in 31.36 seconds\n"
     ]
    },
    {
     "name": "stderr",
     "output_type": "stream",
     "text": [
      "WARNING - ForceBeamColumn3d::update - failed to get compatible element forces & deformations for element: 9(dW: << 1068.13, dW0: 2.41053)\n",
      "Domain::update - domain failed in update\n",
      "DisplacementControl::newStep - model failed to update for new dU\n",
      "StaticAnalysis::analyze() - the Integrator failed at iteration: 162 with domain at load factor -0.993558\n",
      "OpenSees > analyze failed, returned: -2 error flag\n"
     ]
    }
   ],
   "source": [
    "RC.build_model(numBayX, numBayY,numFloor,bayWidthX,bayWidthY,storyHeights,mat_KSP_unconf, mat_KSP_conf, mat_GMP, sections, C_L, m_1)\n",
    "# RC.build_model(L_X, L_Y, L_Z, mat_KSP_unconf, mat_KSP_conf, mat_GMP, sections, C_L, m_1)\n",
    "RC.run_gravity()\n",
    "RC.reset_analysis()\n",
    "run_pushover(numBayX, numBayY, numFloor, m_1 ,direction='X')"
   ]
  },
  {
   "cell_type": "markdown",
   "metadata": {},
   "source": [
    "#### Pushover analysis in Y directions"
   ]
  },
  {
   "cell_type": "code",
   "execution_count": 176,
   "metadata": {},
   "outputs": [
    {
     "name": "stdout",
     "output_type": "stream",
     "text": [
      "range(13, 73)\n",
      "Model Built Successfully!\n",
      "Gravity analysis Done!\n",
      "72\n",
      "Pushover Analysis in Y Done in 41.57 seconds\n"
     ]
    }
   ],
   "source": [
    "# RC.build_model(L_X, L_Y, L_Z, mat_KSP_unconf, mat_KSP_conf, mat_GMP, sections, C_L, m_1)\n",
    "RC.build_model(numBayX, numBayY,numFloor,bayWidthX,bayWidthY,storyHeights,mat_KSP_unconf, mat_KSP_conf, mat_GMP, sections, C_L, m_1)\n",
    "RC.run_gravity()\n",
    "RC.reset_analysis()\n",
    "run_pushover(numBayX, numBayY, numFloor, m_1, direction='Y')"
   ]
  },
  {
   "cell_type": "markdown",
   "metadata": {},
   "source": [
    "### Visualization"
   ]
  },
  {
   "cell_type": "markdown",
   "metadata": {},
   "source": [
    "#### Pushover Curve"
   ]
  },
  {
   "cell_type": "code",
   "execution_count": 177,
   "metadata": {},
   "outputs": [
    {
     "name": "stdout",
     "output_type": "stream",
     "text": [
      "['Pseudo-Time', 'R1_X', 'R2_X', 'R3_X', 'R4_X', 'R5_X', 'R6_X', 'R7_X', 'R8_X', 'R9_X', 'R10_X', 'R11_X', 'R12_X'] ['Pseudo-Time', 'R1_Y', 'R2_Y', 'R3_Y', 'R4_Y', 'R5_Y', 'R6_Y', 'R7_Y', 'R8_Y', 'R9_Y', 'R10_Y', 'R11_Y', 'R12_Y']\n",
      "['Pseudo-Time', 'D13_X', 'D14_X', 'D15_X', 'D16_X', 'D17_X', 'D18_X', 'D19_X', 'D20_X', 'D21_X', 'D22_X', 'D23_X', 'D24_X', 'D25_X', 'D26_X', 'D27_X', 'D28_X', 'D29_X', 'D30_X', 'D31_X', 'D32_X', 'D33_X', 'D34_X', 'D35_X', 'D36_X', 'D37_X', 'D38_X', 'D39_X', 'D40_X', 'D41_X', 'D42_X', 'D43_X', 'D44_X', 'D45_X', 'D46_X', 'D47_X', 'D48_X', 'D49_X', 'D50_X', 'D51_X', 'D52_X', 'D53_X', 'D54_X', 'D55_X', 'D56_X', 'D57_X', 'D58_X', 'D59_X', 'D60_X', 'D61_X', 'D62_X', 'D63_X', 'D64_X', 'D65_X', 'D66_X', 'D67_X', 'D68_X', 'D69_X', 'D70_X', 'D71_X', 'D72_X'] ['Pseudo-Time', 'D13_Y', 'D14_Y', 'D15_Y', 'D16_Y', 'D17_Y', 'D18_Y', 'D19_Y', 'D20_Y', 'D21_Y', 'D22_Y', 'D23_Y', 'D24_Y', 'D25_Y', 'D26_Y', 'D27_Y', 'D28_Y', 'D29_Y', 'D30_Y', 'D31_Y', 'D32_Y', 'D33_Y', 'D34_Y', 'D35_Y', 'D36_Y', 'D37_Y', 'D38_Y', 'D39_Y', 'D40_Y', 'D41_Y', 'D42_Y', 'D43_Y', 'D44_Y', 'D45_Y', 'D46_Y', 'D47_Y', 'D48_Y', 'D49_Y', 'D50_Y', 'D51_Y', 'D52_Y', 'D53_Y', 'D54_Y', 'D55_Y', 'D56_Y', 'D57_Y', 'D58_Y', 'D59_Y', 'D60_Y', 'D61_Y', 'D62_Y', 'D63_Y', 'D64_Y', 'D65_Y', 'D66_Y', 'D67_Y', 'D68_Y', 'D69_Y', 'D70_Y', 'D71_Y', 'D72_Y']\n"
     ]
    },
    {
     "data": {
      "text/plain": [
       "pandas.core.series.Series"
      ]
     },
     "execution_count": 177,
     "metadata": {},
     "output_type": "execute_result"
    }
   ],
   "source": [
    "R1 = [\"Pseudo-Time\"]\n",
    "R2 = [\"Pseudo-Time\"]\n",
    "\n",
    "for i in range(1,(numBayX+1)*(numBayY+1)+1):\n",
    "    R1.append(\"R\" + str(i)+ \"_\" + \"X\")\n",
    "    R2.append(\"R\" + str(i)+ \"_\" + \"Y\")\n",
    "print (R1,R2) \n",
    "\n",
    "D1 = [\"Pseudo-Time\"]\n",
    "D2 = [\"Pseudo-Time\"]\n",
    "\n",
    "for i in range((numBayX+1)*(numBayY+1)+1,(numBayX+1)*(numBayY+1)*(numFloor+1)+1):\n",
    "    D1.append(\"D\" + str(i)+ \"_\" + \"X\")\n",
    "    D2.append(\"D\" + str(i)+ \"_\" + \"Y\")\n",
    "print (D1,D2) \n",
    "    \n",
    "df_R_X = pd.read_table('FGU_RC3DF_files/Pushover_Horizontal_ReactionsX.out', sep = \" \", header = None,names =R1)\n",
    "\n",
    "df_R_Y = pd.read_table('FGU_RC3DF_files/Pushover_Horizontal_ReactionsY.out', sep = \" \", header = None,names =R2)\n",
    "\n",
    "df_R_X['sum_R'] = df_R_X.values[:,1:(numBayX+1)*(numBayY+1)].sum(axis =1)\n",
    "\n",
    "df_R_Y['sum_R'] = df_R_Y.values[:,1:(numBayX+1)*(numBayY+1)].sum(axis =1)\n",
    "\n",
    "df_D_X = pd.read_table('FGU_RC3DF_files/Pushover_Story_DisplacementX.out', sep = \" \", header = None,\n",
    "                      names=D1)\n",
    "\n",
    "df_D_Y = pd.read_table('FGU_RC3DF_files/Pushover_Story_DisplacementY.out', sep = \" \", header = None,\n",
    "                      names=D2)\n",
    "\n",
    "df_D_X['avg_D'] = df_D_X.values[:,(numBayX+1)*(numBayY+1)*(numFloor-1)+1:(numBayX+1)*(numBayY+1)*(numFloor)].mean(axis = 1)\n",
    "df_D_Y['avg_D'] = df_D_Y.values[:,(numBayX+1)*(numBayY+1)*(numFloor-1)+1:(numBayX+1)*(numBayY+1)*(numFloor)].mean(axis = 1)\n",
    "# print(df_D_X['avg_D'])\n",
    "\n",
    "type(df_D_X['avg_D'])"
   ]
  },
  {
   "cell_type": "code",
   "execution_count": 178,
   "metadata": {
    "scrolled": true
   },
   "outputs": [
    {
     "data": {
      "image/png": "[encoded data removed]",
      "text/plain": [
       "<Figure size 720x360 with 1 Axes>"
      ]
     },
     "metadata": {
      "needs_background": "light"
     },
     "output_type": "display_data"
    }
   ],
   "source": [
    "plt.figure(figsize=(10,5))\n",
    "\n",
    "\n",
    "plt.plot(df_D_X['avg_D']*1000, -df_R_X['sum_R'], color = '#C0392B', linewidth=1.5)\n",
    "plt.plot(df_D_Y['avg_D']*1000, -df_R_Y['sum_R'], color = '#27AE60', linewidth=1.5)\n",
    "\n",
    "\n",
    "plt.ylabel('Base Shear (KN)', {'fontname':'Cambria', 'fontstyle':'italic','size':14})\n",
    "plt.xlabel('Average of Roof Displacement (mm)', {'fontname':'Cambria', 'fontstyle':'italic','size':14})\n",
    "plt.grid(which='both')\n",
    "plt.title('Pushover Curve',{'fontname':'Cambria', 'fontstyle':'normal','size':16})\n",
    "plt.yticks(fontname = 'Cambria', fontsize = 14)\n",
    "plt.xticks(fontname = 'Cambria', fontsize = 14);\n",
    "plt.legend(['X-Direction', 'Y-Direction'],prop={'family':'Cambria','size':14});\n"
   ]
  },
  {
   "cell_type": "markdown",
   "metadata": {},
   "source": [
    "#### Time history analysis in X directions"
   ]
  },
  {
   "cell_type": "code",
   "execution_count": 11,
   "metadata": {},
   "outputs": [
    {
     "name": "stdout",
     "output_type": "stream",
     "text": [
      "Model Built Successfully!\n",
      "Gravity analysis Done!\n",
      "Running Time-History analysis with lambda= 1\n"
     ]
    },
    {
     "ename": "KeyboardInterrupt",
     "evalue": "",
     "output_type": "error",
     "traceback": [
      "\u001b[1;31m---------------------------------------------------------------------------\u001b[0m",
      "\u001b[1;31mKeyboardInterrupt\u001b[0m                         Traceback (most recent call last)",
      "Input \u001b[1;32mIn [11]\u001b[0m, in \u001b[0;36m<cell line: 5>\u001b[1;34m()\u001b[0m\n\u001b[0;32m      3\u001b[0m RC\u001b[38;5;241m.\u001b[39mrun_gravity()\n\u001b[0;32m      4\u001b[0m RC\u001b[38;5;241m.\u001b[39mreset_analysis()\n\u001b[1;32m----> 5\u001b[0m \u001b[43mRC\u001b[49m\u001b[38;5;241;43m.\u001b[39;49m\u001b[43mrun_time_history\u001b[49m\u001b[43m(\u001b[49m\u001b[43mdirection\u001b[49m\u001b[38;5;241;43m=\u001b[39;49m\u001b[38;5;124;43m'\u001b[39;49m\u001b[38;5;124;43mX\u001b[39;49m\u001b[38;5;124;43m'\u001b[39;49m\u001b[43m)\u001b[49m\n",
      "File \u001b[1;32m~\\Desktop\\research cache\\OpenSeesPy-Examples_AmirHossein - Copy\\FGU_RC3DF_files\\RC3DF.py:659\u001b[0m, in \u001b[0;36mrun_time_history\u001b[1;34m(direction, g_motion_id, scaling_id, lamda, acc_dir, alpha)\u001b[0m\n\u001b[0;32m    656\u001b[0m \u001b[38;5;28;01mwhile\u001b[39;00m (ok \u001b[38;5;241m==\u001b[39m \u001b[38;5;241m0\u001b[39m \u001b[38;5;129;01mand\u001b[39;00m t \u001b[38;5;241m<\u001b[39m\u001b[38;5;241m=\u001b[39m alpha\u001b[38;5;241m*\u001b[39mfinal_time):\n\u001b[0;32m    658\u001b[0m     ok \u001b[38;5;241m=\u001b[39m ops\u001b[38;5;241m.\u001b[39manalyze(\u001b[38;5;241m1\u001b[39m, dt_analysis)\n\u001b[1;32m--> 659\u001b[0m     t \u001b[38;5;241m=\u001b[39m \u001b[43mops\u001b[49m\u001b[38;5;241m.\u001b[39mgetTime()    \n\u001b[0;32m    661\u001b[0m finish_time \u001b[38;5;241m=\u001b[39m time\u001b[38;5;241m.\u001b[39mtime()\n\u001b[0;32m    663\u001b[0m \u001b[38;5;28;01mif\u001b[39;00m ok \u001b[38;5;241m==\u001b[39m \u001b[38;5;241m0\u001b[39m:\n",
      "\u001b[1;31mKeyboardInterrupt\u001b[0m: "
     ]
    }
   ],
   "source": [
    "# RC.build_model(L_X, L_Y, L_Z, mat_KSP_unconf, mat_KSP_conf, mat_GMP, sections, C_L, m_1)\n",
    "RC.build_model(numBayX, numBayY,numFloor,bayWidthX,bayWidthY,storyHeights,mat_KSP_unconf, mat_KSP_conf, mat_GMP, sections, C_L, m_1)\n",
    "RC.run_gravity()\n",
    "RC.reset_analysis()\n",
    "RC.run_time_history(direction='X')"
   ]
  },
  {
   "cell_type": "markdown",
   "metadata": {},
   "source": [
    "#### Time history analysis in Y directions"
   ]
  },
  {
   "cell_type": "code",
   "execution_count": null,
   "metadata": {},
   "outputs": [],
   "source": [
    "# RC.build_model(L_X, L_Y, L_Z, mat_KSP_unconf, mat_KSP_conf, mat_GMP, sections, C_L, m_1)\n",
    "RC.build_model(numBayX, numBayY,numFloor,bayWidthX,bayWidthY,storyHeights,mat_KSP_unconf, mat_KSP_conf, mat_GMP, sections, C_L, m_1)\n",
    "RC.run_gravity()\n",
    "RC.reset_analysis()\n",
    "RC.run_time_history(direction='Y')"
   ]
  },
  {
   "cell_type": "markdown",
   "metadata": {},
   "source": [
    "##### Ground Motion histroy"
   ]
  },
  {
   "cell_type": "code",
   "execution_count": 27,
   "metadata": {},
   "outputs": [],
   "source": [
    "G_M =np.loadtxt('FGU_RC3DF_files/acc_1.txt')\n",
    "times = np.arange(0,0.02*len(G_M),0.02)\n",
    "plt.figure(figsize=(12,4))\n",
    "plt.plot(times,G_M, color = '#6495ED', linewidth=1.2)\n",
    "plt.ylabel('Acceleration (m/s2)', {'fontname':'Cambria', 'fontstyle':'italic','size':14})\n",
    "plt.xlabel('Time (sec)', {'fontname':'Cambria', 'fontstyle':'italic','size':14})\n",
    "plt.grid(which='both')\n",
    "plt.title('Time history of Ground Motion record',{'fontname':'Cambria', 'fontstyle':'normal','size':16})\n",
    "plt.yticks(fontname = 'Cambria', fontsize = 14);"
   ]
  },
  {
   "cell_type": "markdown",
   "metadata": {},
   "source": [
    "#### Time history of displacement and acceleration"
   ]
  },
  {
   "cell_type": "code",
   "execution_count": 14,
   "metadata": {},
   "outputs": [
    {
     "ename": "FileNotFoundError",
     "evalue": "FGU_RC3DF_files/TimeHistory_Story_DisplacementY1.1.out not found.",
     "output_type": "error",
     "traceback": [
      "\u001b[1;31m---------------------------------------------------------------------------\u001b[0m",
      "\u001b[1;31mFileNotFoundError\u001b[0m                         Traceback (most recent call last)",
      "Input \u001b[1;32mIn [14]\u001b[0m, in \u001b[0;36m<cell line: 2>\u001b[1;34m()\u001b[0m\n\u001b[0;32m      1\u001b[0m story_disp_X \u001b[38;5;241m=\u001b[39m np\u001b[38;5;241m.\u001b[39mloadtxt(\u001b[38;5;124m'\u001b[39m\u001b[38;5;124mFGU_RC3DF_files/TimeHistory_Story_DisplacementX1.1.out\u001b[39m\u001b[38;5;124m'\u001b[39m)\n\u001b[1;32m----> 2\u001b[0m story_disp_Y \u001b[38;5;241m=\u001b[39m \u001b[43mnp\u001b[49m\u001b[38;5;241;43m.\u001b[39;49m\u001b[43mloadtxt\u001b[49m\u001b[43m(\u001b[49m\u001b[38;5;124;43m'\u001b[39;49m\u001b[38;5;124;43mFGU_RC3DF_files/TimeHistory_Story_DisplacementY1.1.out\u001b[39;49m\u001b[38;5;124;43m'\u001b[39;49m\u001b[43m)\u001b[49m\n\u001b[0;32m      4\u001b[0m plt\u001b[38;5;241m.\u001b[39mfigure(figsize\u001b[38;5;241m=\u001b[39m(\u001b[38;5;241m12\u001b[39m,\u001b[38;5;241m5\u001b[39m))\n\u001b[0;32m      5\u001b[0m plt\u001b[38;5;241m.\u001b[39mplot(story_disp_X[:,\u001b[38;5;241m0\u001b[39m], story_disp_X[:,\u001b[38;5;241m1\u001b[39m], color \u001b[38;5;241m=\u001b[39m \u001b[38;5;124m'\u001b[39m\u001b[38;5;124m#DE3163\u001b[39m\u001b[38;5;124m'\u001b[39m, linewidth\u001b[38;5;241m=\u001b[39m\u001b[38;5;241m1.2\u001b[39m)\n",
      "File \u001b[1;32m~\\anaconda3\\envs\\openseespy3.8\\lib\\site-packages\\numpy\\lib\\npyio.py:1308\u001b[0m, in \u001b[0;36mloadtxt\u001b[1;34m(fname, dtype, comments, delimiter, converters, skiprows, usecols, unpack, ndmin, encoding, max_rows, quotechar, like)\u001b[0m\n\u001b[0;32m   1305\u001b[0m \u001b[38;5;28;01mif\u001b[39;00m \u001b[38;5;28misinstance\u001b[39m(delimiter, \u001b[38;5;28mbytes\u001b[39m):\n\u001b[0;32m   1306\u001b[0m     delimiter \u001b[38;5;241m=\u001b[39m delimiter\u001b[38;5;241m.\u001b[39mdecode(\u001b[38;5;124m'\u001b[39m\u001b[38;5;124mlatin1\u001b[39m\u001b[38;5;124m'\u001b[39m)\n\u001b[1;32m-> 1308\u001b[0m arr \u001b[38;5;241m=\u001b[39m \u001b[43m_read\u001b[49m\u001b[43m(\u001b[49m\u001b[43mfname\u001b[49m\u001b[43m,\u001b[49m\u001b[43m \u001b[49m\u001b[43mdtype\u001b[49m\u001b[38;5;241;43m=\u001b[39;49m\u001b[43mdtype\u001b[49m\u001b[43m,\u001b[49m\u001b[43m \u001b[49m\u001b[43mcomment\u001b[49m\u001b[38;5;241;43m=\u001b[39;49m\u001b[43mcomment\u001b[49m\u001b[43m,\u001b[49m\u001b[43m \u001b[49m\u001b[43mdelimiter\u001b[49m\u001b[38;5;241;43m=\u001b[39;49m\u001b[43mdelimiter\u001b[49m\u001b[43m,\u001b[49m\n\u001b[0;32m   1309\u001b[0m \u001b[43m            \u001b[49m\u001b[43mconverters\u001b[49m\u001b[38;5;241;43m=\u001b[39;49m\u001b[43mconverters\u001b[49m\u001b[43m,\u001b[49m\u001b[43m \u001b[49m\u001b[43mskiplines\u001b[49m\u001b[38;5;241;43m=\u001b[39;49m\u001b[43mskiprows\u001b[49m\u001b[43m,\u001b[49m\u001b[43m \u001b[49m\u001b[43musecols\u001b[49m\u001b[38;5;241;43m=\u001b[39;49m\u001b[43musecols\u001b[49m\u001b[43m,\u001b[49m\n\u001b[0;32m   1310\u001b[0m \u001b[43m            \u001b[49m\u001b[43munpack\u001b[49m\u001b[38;5;241;43m=\u001b[39;49m\u001b[43munpack\u001b[49m\u001b[43m,\u001b[49m\u001b[43m \u001b[49m\u001b[43mndmin\u001b[49m\u001b[38;5;241;43m=\u001b[39;49m\u001b[43mndmin\u001b[49m\u001b[43m,\u001b[49m\u001b[43m \u001b[49m\u001b[43mencoding\u001b[49m\u001b[38;5;241;43m=\u001b[39;49m\u001b[43mencoding\u001b[49m\u001b[43m,\u001b[49m\n\u001b[0;32m   1311\u001b[0m \u001b[43m            \u001b[49m\u001b[43mmax_rows\u001b[49m\u001b[38;5;241;43m=\u001b[39;49m\u001b[43mmax_rows\u001b[49m\u001b[43m,\u001b[49m\u001b[43m \u001b[49m\u001b[43mquote\u001b[49m\u001b[38;5;241;43m=\u001b[39;49m\u001b[43mquotechar\u001b[49m\u001b[43m)\u001b[49m\n\u001b[0;32m   1313\u001b[0m \u001b[38;5;28;01mreturn\u001b[39;00m arr\n",
      "File \u001b[1;32m~\\anaconda3\\envs\\openseespy3.8\\lib\\site-packages\\numpy\\lib\\npyio.py:955\u001b[0m, in \u001b[0;36m_read\u001b[1;34m(fname, delimiter, comment, quote, imaginary_unit, usecols, skiplines, max_rows, converters, ndmin, unpack, dtype, encoding)\u001b[0m\n\u001b[0;32m    953\u001b[0m     fname \u001b[38;5;241m=\u001b[39m os\u001b[38;5;241m.\u001b[39mfspath(fname)\n\u001b[0;32m    954\u001b[0m \u001b[38;5;28;01mif\u001b[39;00m \u001b[38;5;28misinstance\u001b[39m(fname, \u001b[38;5;28mstr\u001b[39m):\n\u001b[1;32m--> 955\u001b[0m     fh \u001b[38;5;241m=\u001b[39m \u001b[43mnp\u001b[49m\u001b[38;5;241;43m.\u001b[39;49m\u001b[43mlib\u001b[49m\u001b[38;5;241;43m.\u001b[39;49m\u001b[43m_datasource\u001b[49m\u001b[38;5;241;43m.\u001b[39;49m\u001b[43mopen\u001b[49m\u001b[43m(\u001b[49m\u001b[43mfname\u001b[49m\u001b[43m,\u001b[49m\u001b[43m \u001b[49m\u001b[38;5;124;43m'\u001b[39;49m\u001b[38;5;124;43mrt\u001b[39;49m\u001b[38;5;124;43m'\u001b[39;49m\u001b[43m,\u001b[49m\u001b[43m \u001b[49m\u001b[43mencoding\u001b[49m\u001b[38;5;241;43m=\u001b[39;49m\u001b[43mencoding\u001b[49m\u001b[43m)\u001b[49m\n\u001b[0;32m    956\u001b[0m     \u001b[38;5;28;01mif\u001b[39;00m encoding \u001b[38;5;129;01mis\u001b[39;00m \u001b[38;5;28;01mNone\u001b[39;00m:\n\u001b[0;32m    957\u001b[0m         encoding \u001b[38;5;241m=\u001b[39m \u001b[38;5;28mgetattr\u001b[39m(fh, \u001b[38;5;124m'\u001b[39m\u001b[38;5;124mencoding\u001b[39m\u001b[38;5;124m'\u001b[39m, \u001b[38;5;124m'\u001b[39m\u001b[38;5;124mlatin1\u001b[39m\u001b[38;5;124m'\u001b[39m)\n",
      "File \u001b[1;32m~\\anaconda3\\envs\\openseespy3.8\\lib\\site-packages\\numpy\\lib\\_datasource.py:193\u001b[0m, in \u001b[0;36mopen\u001b[1;34m(path, mode, destpath, encoding, newline)\u001b[0m\n\u001b[0;32m    156\u001b[0m \u001b[38;5;124;03m\"\"\"\u001b[39;00m\n\u001b[0;32m    157\u001b[0m \u001b[38;5;124;03mOpen `path` with `mode` and return the file object.\u001b[39;00m\n\u001b[0;32m    158\u001b[0m \n\u001b[1;32m   (...)\u001b[0m\n\u001b[0;32m    189\u001b[0m \n\u001b[0;32m    190\u001b[0m \u001b[38;5;124;03m\"\"\"\u001b[39;00m\n\u001b[0;32m    192\u001b[0m ds \u001b[38;5;241m=\u001b[39m DataSource(destpath)\n\u001b[1;32m--> 193\u001b[0m \u001b[38;5;28;01mreturn\u001b[39;00m \u001b[43mds\u001b[49m\u001b[38;5;241;43m.\u001b[39;49m\u001b[43mopen\u001b[49m\u001b[43m(\u001b[49m\u001b[43mpath\u001b[49m\u001b[43m,\u001b[49m\u001b[43m \u001b[49m\u001b[43mmode\u001b[49m\u001b[43m,\u001b[49m\u001b[43m \u001b[49m\u001b[43mencoding\u001b[49m\u001b[38;5;241;43m=\u001b[39;49m\u001b[43mencoding\u001b[49m\u001b[43m,\u001b[49m\u001b[43m \u001b[49m\u001b[43mnewline\u001b[49m\u001b[38;5;241;43m=\u001b[39;49m\u001b[43mnewline\u001b[49m\u001b[43m)\u001b[49m\n",
      "File \u001b[1;32m~\\anaconda3\\envs\\openseespy3.8\\lib\\site-packages\\numpy\\lib\\_datasource.py:533\u001b[0m, in \u001b[0;36mDataSource.open\u001b[1;34m(self, path, mode, encoding, newline)\u001b[0m\n\u001b[0;32m    530\u001b[0m     \u001b[38;5;28;01mreturn\u001b[39;00m _file_openers[ext](found, mode\u001b[38;5;241m=\u001b[39mmode,\n\u001b[0;32m    531\u001b[0m                               encoding\u001b[38;5;241m=\u001b[39mencoding, newline\u001b[38;5;241m=\u001b[39mnewline)\n\u001b[0;32m    532\u001b[0m \u001b[38;5;28;01melse\u001b[39;00m:\n\u001b[1;32m--> 533\u001b[0m     \u001b[38;5;28;01mraise\u001b[39;00m \u001b[38;5;167;01mFileNotFoundError\u001b[39;00m(\u001b[38;5;124mf\u001b[39m\u001b[38;5;124m\"\u001b[39m\u001b[38;5;132;01m{\u001b[39;00mpath\u001b[38;5;132;01m}\u001b[39;00m\u001b[38;5;124m not found.\u001b[39m\u001b[38;5;124m\"\u001b[39m)\n",
      "\u001b[1;31mFileNotFoundError\u001b[0m: FGU_RC3DF_files/TimeHistory_Story_DisplacementY1.1.out not found."
     ]
    }
   ],
   "source": [
    "story_disp_X = np.loadtxt('FGU_RC3DF_files/TimeHistory_Story_DisplacementX1.1.out')\n",
    "story_disp_Y = np.loadtxt('FGU_RC3DF_files/TimeHistory_Story_DisplacementY1.1.out')\n",
    "\n",
    "plt.figure(figsize=(12,5))\n",
    "plt.plot(story_disp_X[:,0], story_disp_X[:,1], color = '#DE3163', linewidth=1.2)\n",
    "plt.plot(story_disp_Y[:,0], story_disp_Y[:,2], color = '#FFBF00', linewidth=1.2)\n",
    "plt.ylabel('Horizontal Displacement (m)', {'fontname':'Cambria', 'fontstyle':'italic','size':14})\n",
    "plt.xlabel('Time (sec)', {'fontname':'Cambria', 'fontstyle':'italic','size':14})\n",
    "plt.grid(which='both')\n",
    "plt.title('Time history of horizontal dispacement',{'fontname':'Cambria', 'fontstyle':'normal','size':16})\n",
    "plt.yticks(fontname = 'Cambria', fontsize = 14);\n",
    "plt.xticks(fontname = 'Cambria', fontsize = 14);\n",
    "plt.legend(['X-Direction', 'Y-Direction'], prop={'family':'Cambria','size':14});"
   ]
  },
  {
   "cell_type": "code",
   "execution_count": null,
   "metadata": {},
   "outputs": [],
   "source": [
    "story_accel_X = np.loadtxt('FGU_RC3DF_files/TimeHistory_Story_AccelerationX1.1.out')\n",
    "story_accel_Y = np.loadtxt('FGU_RC3DF_files/TimeHistory_Story_AccelerationY1.1.out')\n",
    "\n",
    "plt.figure(figsize=(12,5))\n",
    "plt.plot(story_accel_X[:,0], story_accel_X[:,1], color = '#DE3163', linewidth=1.2)\n",
    "plt.plot(story_accel_Y[:,0], story_accel_Y[:,2], color = '#FFBF00', linewidth=1.2)\n",
    "plt.ylabel('Horizontal Acceleration (m/s2)', {'fontname':'Cambria', 'fontstyle':'italic','size':14})\n",
    "plt.xlabel('Time (sec)', {'fontname':'Cambria', 'fontstyle':'italic','size':14})\n",
    "plt.grid(which='both')\n",
    "plt.title('Time history of horizontal acceleration',{'fontname':'Cambria', 'fontstyle':'normal','size':16})\n",
    "plt.yticks(fontname = 'Cambria', fontsize = 14);\n",
    "plt.xticks(fontname = 'Cambria', fontsize = 14);\n",
    "plt.legend(['X-Direction', 'Y-Direction'], prop={'family':'Cambria','size':14});"
   ]
  },
  {
   "cell_type": "markdown",
   "metadata": {},
   "source": [
    "### References\n",
    "\n",
    "- <blockquote>Fernando Gutiérrez Urzúa's YouTube channel (https://www.youtube.com/user/lfgurzua) </blockquote>\n",
    "- <blockquote>OpenseesPy Documentation (https://openseespydoc.readthedocs.io/en/latest/) </blockquote>\n"
   ]
  }
 ],
 "metadata": {
  "kernelspec": {
   "display_name": "Python 3 (ipykernel)",
   "language": "python",
   "name": "python3"
  },
  "language_info": {
   "codemirror_mode": {
    "name": "ipython",
    "version": 3
   },
   "file_extension": ".py",
   "mimetype": "text/x-python",
   "name": "python",
   "nbconvert_exporter": "python",
   "pygments_lexer": "ipython3",
   "version": "3.8.10"
  }
 },
 "nbformat": 4,
 "nbformat_minor": 4
}
